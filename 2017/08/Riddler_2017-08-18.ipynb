{
 "cells": [
  {
   "cell_type": "markdown",
   "metadata": {},
   "source": [
    "First, we construct the series step-by-step starting from just the number $3$.\n",
    "$$\n",
    "\\begin{align}\n",
    "0&: 3 \\\\\n",
    "1&: 3332 \\\\\n",
    "2&: 333233323332332 \\\\\n",
    "3&: 33323332333233233323332333233233323332333233233323332332\n",
    "\\end{align}\n",
    "$$\n",
    "\n",
    "To determine the sequence of step $x$, we expand step $x-1$ with the mapping $3 \\rightarrow 3332$ and $2 \\rightarrow 332$. We then define two quantities: $n_2[x]$, the number of $2$s in step $x$, and $n_3[x]$, the number of $3$s in step $x$. The first couple of values for $n_2[x]$ and $n_3[x]$ are:\n",
    "\n",
    "| $x$ | $n_2[x]$ | $n_3[x]$ |\n",
    "|-----|----------|----------|\n",
    "| 0   | 0        | 1        |\n",
    "| 1   | 1        | 3        |\n",
    "| 2   | 4        | 11       |\n",
    "| 3   | 15       | 41       |\n",
    "| 4   | 56       | 153      |\n",
    "\n",
    "There is a simple recursive expression for these functions. Specifically:\n",
    "\n",
    "$$\n",
    "\\begin{align}\n",
    "n_2[x] &= n_2[x-1] + n_3[x-1] \\\\\n",
    "n_3[x] &= 3 n_3[x-1] + 2 n_2[x-1] \\\\\n",
    "n_2[0] &= 0 \\\\\n",
    "n_3[0] &= 1\n",
    "\\end{align}\n",
    "$$\n",
    "\n",
    "These expressions can be rewritten such that $n_2[x]$ is a recursive function of only $n_2[x]$ and $n_3[x]$ is a recursive function of only $n_3[x]$. First, we look at $n_2[x]$:\n",
    "\n",
    "$$\n",
    "\\begin{align}\n",
    "n_2[x] &= n_2[x-1] + n_3[x-1] \\\\\n",
    "&= n_2[x-1] + 2 n_2[x-2] + 3 n_3[x-2] \\\\\n",
    "&= n_2[x-1] + 2 n_2[x-2] + 6 n_2[x-3] + 18 n_2[x-4] + \\dots \\\\\n",
    "n_2[x-1] &= n_2[x-2] + 2 n_2[x-3] + 6 n_2[x-4] + \\dots \\\\\n",
    "3 n_2[x-1] &= 3 n_2[x-2] + 6 n_2[x-3] + 18 n_2[x-4] + \\dots \\\\\n",
    "n_2[x] - 3 n_2[x-1] &= n_2[x-1] - n_2[x-2] \\\\\n",
    "n_2[x] &= 4 n_2[x-1] - n_2[x-2] \\\\\n",
    "n_2[0] &= 0 \\\\\n",
    "n_2[1] &= 1\n",
    "\\end{align}\n",
    "$$\n",
    "\n",
    "Because the resulting expression is double-recursive, two boundary conditions must be supplied.\n",
    "\n",
    "Now, for $n_3[x]$:\n",
    "\n",
    "$$\n",
    "\\begin{align}\n",
    "n_3[x] &= 3 n_3[x-1] + 2 n_2[x-1] \\\\\n",
    "&= 3 n_3[x-1] + 2 n_3[x-2] + 2 n_2[x-2] \\\\\n",
    "&= 3 n_3[x-1] + 2 \\left(n_3[x-2] + n_3[x-3] + n_3[x-4] + \\dots\\right) \\\\\n",
    "n_3[x-1] &= 3 n_3[x-2] + 2 \\left(n_3[x-3] + n_3[x-4] + \\dots\\right) \\\\\n",
    "n_3[x] - n_3[x-1] &= 3 n_3[x-1] - n_3[x-2] \\\\\n",
    "n_3[x] &= 4 n_3[x-1] - n_3[x-2] \\\\\n",
    "n_3[0] &= 1 \\\\\n",
    "n_3[1] &= 3\n",
    "\\end{align}\n",
    "$$\n",
    "\n",
    "Note that the recursive expressions for $n_2[x]$ and $n_3[x]$ are the same, with only the boundary conditions differing! By recursively inserting the expression for $n_3[x]$ itself, we can arrive at a series of equivalent expressions:\n",
    "\n",
    "$$\n",
    "\\begin{align}\n",
    "n_3[x] &= 4 n_3[x-1] - n_3[x-2] \\\\\n",
    "&= 15 n_3[x-2] - 4 n_3[x-3] \\\\\n",
    "&= 56 n_3[x-3] - 15 n_3[x-4]\n",
    "\\end{align}\n",
    "$$\n",
    "\n",
    "Notice that the coefficients are exactly the values of $n_2[x]$! This relationship can also be written as:\n",
    "\n",
    "$$n_3[x] = n_2[y] n_3[x - y + 1] - n_2[y - 1] n_3[x - y]$$\n",
    "\n",
    "For all $1 <= y <= x$. For example, take $y = x$:\n",
    "\n",
    "$$n_3[x] = n_2[x] n_3[1] - n_2[x - 1] n_3[0]$$\n",
    "\n",
    "Then the ratio between the number of $3$s and the number of $2$s can be written as:\n",
    "\n",
    "$$\n",
    "\\begin{align}\n",
    "\\frac{n_3[x]}{n_2[x]} &= \\frac{n_2[x] n_3[1] - n_2[x-1] n_3[0]}{n_2[x]} \\\\\n",
    "&= n_3[1] - \\frac{n_2[x-1]}{n_2[x]} n_3[0] \\\\\n",
    "&= 3 - \\frac{n_2[x-1]}{n_2[x]} \\\\\n",
    "&= 3 - \\frac{n_2[x-1]}{4 n_2[x-1] - n_2[x-2]} \\\\\n",
    "&= 3 - \\frac{1}{4 - \\frac{n_2[x-2]}{n_2[x-1]}} \\\\\n",
    "&= 3 - \\frac{1}{4 - \\frac{1}{4 - \\frac{1}{4 - \\dots}}}\n",
    "\\end{align}\n",
    "$$\n",
    "\n",
    "In the limit of large $x$, the final term in the previous expression becomes an infinite continued fraction. The numerical value of this can be solved for simply:\n",
    "\n",
    "$$\n",
    "\\begin{align}\n",
    "Z &= \\frac{1}{4 - \\frac{1}{4 - \\frac{1}{4 - \\dots}}} \\\\\n",
    "&= \\frac{1}{4 - Z} \\\\\n",
    "0 &= -Z^2 + 4Z - 1 \\\\\n",
    "Z &= 2 - \\sqrt{3}\n",
    "\\end{align}\n",
    "$$\n",
    "\n",
    "The quadratic equation obtained above has two solutions, but since we know that $Z$ must be less than 1 (as it is equal to 1 divided by a value that is greater than 1), we only take the solution that is less than 1. Therefore, finally, we obtain:\n",
    "\n",
    "$$\\lim_{x \\rightarrow \\infty} \\frac{n_3[x]}{n_2[x]} = 1 + \\sqrt{3}$$"
   ]
  },
  {
   "cell_type": "code",
   "execution_count": 1,
   "metadata": {},
   "outputs": [],
   "source": [
    "%matplotlib inline\n",
    "\n",
    "import numpy as np\n",
    "import matplotlib.pyplot as plt\n",
    "from functools import lru_cache\n",
    "\n",
    "def n_gen(n0, n1):\n",
    "    @lru_cache(maxsize=None)\n",
    "    def n(x):\n",
    "        if x == 0:\n",
    "            return n0\n",
    "        if x == 1:\n",
    "            return n1\n",
    "        return 4*n(x-1) - n(x-2)\n",
    "    return n\n",
    "\n",
    "n2 = n_gen(0, 1)\n",
    "n3 = n_gen(1, 3)"
   ]
  },
  {
   "cell_type": "code",
   "execution_count": 9,
   "metadata": {},
   "outputs": [
    {
     "data": {
      "text/plain": [
       "[<matplotlib.lines.Line2D at 0x7f6706582940>]"
      ]
     },
     "execution_count": 9,
     "metadata": {},
     "output_type": "execute_result"
    },
    {
     "data": {
      "image/png": "[encoded data removed]",
      "text/plain": [
       "<matplotlib.figure.Figure at 0x7f67065a32e8>"
      ]
     },
     "metadata": {},
     "output_type": "display_data"
    }
   ],
   "source": [
    "x = np.arange(2, 10)\n",
    "plt.plot(x, [n2(xi)/n2(xi-1) for xi in x])"
   ]
  },
  {
   "cell_type": "code",
   "execution_count": null,
   "metadata": {
    "collapsed": true
   },
   "outputs": [],
   "source": []
  }
 ],
 "metadata": {
  "kernelspec": {
   "display_name": "Python 3",
   "language": "python",
   "name": "python3"
  },
  "language_info": {
   "codemirror_mode": {
    "name": "ipython",
    "version": 3
   },
   "file_extension": ".py",
   "mimetype": "text/x-python",
   "name": "python",
   "nbconvert_exporter": "python",
   "pygments_lexer": "ipython3",
   "version": "3.4.5"
  }
 },
 "nbformat": 4,
 "nbformat_minor": 2
}
